{
 "cells": [
  {
   "cell_type": "code",
   "execution_count": null,
   "metadata": {},
   "outputs": [],
   "source": [
    "# 한국언론지능재단에서 한국의 모든 언론사로부터 뉴스데이터 가져오는 api 제공 (광고 없음)\n",
    "# 데이터 다운로드/관계도 분석/키워드 트랜드/연관어 분석/정보 추출\n",
    "# https://www.bigkinds.or.kr/\n",
    "# \n",
    "# #코랩에서 한글 사용하기\n",
    "# !sudo apt-get install -y fonts-nanum\n",
    "# !sudo fc-cache -fv\n",
    "# !rm ~/.cache/matplotlib -rf\n",
    "# !pip install konlpy\n",
    "from wordcloud import WordCloud\n",
    "from konlpy.tag import Okt\n",
    "from collections import Counter\n",
    "import pandas as pd\n",
    "import matplotlib.pyplot as plt\n",
    "\n",
    "data = pd.read_excel('여기에 데이터가 들어있는 경로와 파일명 입력하세요!')\n",
    "\n",
    "#엑셀파일에서 '본문' 내용만 추출하기\n",
    "text = data['본문']\n",
    "change = list(map(str, text))\n",
    "text2 = \", \".join(change)\n",
    "\n",
    "#'본문'에서 '명사'만 추출하기\n",
    "okt = Okt()\n",
    "extract = okt.nouns(text2)\n",
    "\n",
    "#명사 리스트에서 1글자를 넘는 단어만 고르기\n",
    "noun_list = []\n",
    "\n",
    "for n in extract:\n",
    "    if len(n) >1:\n",
    "        noun_list.append(n)\n",
    "\n",
    "#추출한 명사가 몇개인지 세기\n",
    "counts = Counter(noun_list)\n",
    "\n",
    "#상위 100개 단어 목록 만들기\n",
    "tags = counts.most_common(100)\n",
    "\n",
    "#워드 클라우드 생성하기\n",
    "wc = WordCloud(font_path='여기에 폰트파일이 들어있는 경로와 파일명 입력하세요!', \n",
    "               background_color=\"white\", \n",
    "               max_font_size=200,\n",
    "               width = 800,\n",
    "               height =800)\n",
    "cloud = wc.generate_from_frequencies(dict(tags))\n",
    "\n",
    "#워드 클라우드 그리기\n",
    "plt.figure(figsize=(10, 10))\n",
    "plt.axis('off')\n",
    "plt.imshow(cloud)\n",
    "plt.show()"
   ]
  }
 ],
 "metadata": {
  "kernelspec": {
   "display_name": "Python 3.9.0 64-bit",
   "language": "python",
   "name": "python3"
  },
  "language_info": {
   "name": "python",
   "version": "3.9.0"
  },
  "orig_nbformat": 4,
  "vscode": {
   "interpreter": {
    "hash": "45339bc56a643d5cca89a03a2114dea40057e221f4abbf9db77d494b61aa87df"
   }
  }
 },
 "nbformat": 4,
 "nbformat_minor": 2
}
