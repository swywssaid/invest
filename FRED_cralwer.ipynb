{
 "cells": [
  {
   "cell_type": "code",
   "execution_count": null,
   "metadata": {},
   "outputs": [],
   "source": [
    "# matplotlib 설정\n",
    "import matplotlib.pyplot as plt\n",
    "\n",
    "plt.rcParams[\"axes.grid\"] = True\n",
    "plt.rcParams[\"figure.figsize\"] = (12,6)\n",
    "plt.rcParams['axes.unicode_minus'] = False\n",
    "plt.rcParams[\"axes.formatter.limits\"] = -10000, 10000"
   ]
  },
  {
   "cell_type": "code",
   "execution_count": null,
   "metadata": {},
   "outputs": [],
   "source": [
    "!pip install -q finance-dataReader\n"
   ]
  },
  {
   "cell_type": "markdown",
   "metadata": {},
   "source": [
    "나스닥지수(IXIC) 입니다.\n"
   ]
  },
  {
   "cell_type": "code",
   "execution_count": null,
   "metadata": {},
   "outputs": [],
   "source": [
    "import FinanceDataReader as fdr\n",
    "\n",
    "df = fdr.DataReader('NASDAQCOM', data_source='fred')\n",
    "df"
   ]
  },
  {
   "cell_type": "code",
   "execution_count": null,
   "metadata": {},
   "outputs": [],
   "source": [
    "df.plot()\n"
   ]
  },
  {
   "cell_type": "markdown",
   "metadata": {},
   "source": [
    "<matplotlib.axes._subplots.AxesSubplot at 0x7f2e17169c18>\n"
   ]
  },
  {
   "cell_type": "code",
   "execution_count": null,
   "metadata": {},
   "outputs": [],
   "source": [
    "ax = df['2020':].plot()\n",
    "ax = ax.axvspan('2020-09-01', '2020-10-01', color='orange', alpha=0.2)"
   ]
  },
  {
   "cell_type": "markdown",
   "metadata": {},
   "source": [
    "1. 주간 실업수당 청구 건수 (ICSA)\n"
   ]
  },
  {
   "cell_type": "code",
   "execution_count": null,
   "metadata": {},
   "outputs": [],
   "source": [
    "# 2008년 금융위기 나스닥지수(NASDAQCOM)와 주간 실업수당 청구 건수(ICSA)\n",
    "\n",
    "df = fdr.DataReader(['NASDAQCOM', 'ICSA'], start='2006', end='2010', data_source='fred')\n",
    "ax = df.plot(secondary_y='NASDAQCOM')\n",
    "ax = ax.axvspan('2007-12-01', '2009-03-30', color='gray', alpha=0.2)"
   ]
  },
  {
   "cell_type": "code",
   "execution_count": null,
   "metadata": {},
   "outputs": [],
   "source": [
    "# 최근(2020년 10월), 나스닥지수(NASDAQCOM)와 주간 실업수당 청구 건수(ICSA)\n",
    "\n",
    "df = fdr.DataReader(['NASDAQCOM', 'ICSA'], start='2019', data_source='fred')\n",
    "ax = df.plot(secondary_y='NASDAQCOM')"
   ]
  },
  {
   "cell_type": "code",
   "execution_count": null,
   "metadata": {},
   "outputs": [],
   "source": [
    "df.tail()\n"
   ]
  },
  {
   "cell_type": "markdown",
   "metadata": {},
   "source": [
    "2. 소비자심리지수 (UMCSENT)¶\n"
   ]
  },
  {
   "cell_type": "code",
   "execution_count": null,
   "metadata": {},
   "outputs": [],
   "source": [
    "# 2008년 금융위기 나스닥지수(NASDAQCOM)와 미시건대 소비자심리지수(UMCSENT) \n",
    "\n",
    "df = fdr.DataReader(['NASDAQCOM', 'UMCSENT'], start='2006', end='2010', data_source='fred')\n",
    "ax = df.plot(secondary_y='NASDAQCOM')\n",
    "ax = ax.axvspan('2007-12-01', '2009-03-30', color='gray', alpha=0.2)"
   ]
  },
  {
   "cell_type": "code",
   "execution_count": null,
   "metadata": {},
   "outputs": [],
   "source": [
    "# 최근(2020년 10월), 나스닥지수(NASDAQCOM)와 미시건대 소비자심리지수(UMCSENT) \n",
    "\n",
    "df = fdr.DataReader(['NASDAQCOM', 'UMCSENT'], start='2019', data_source='fred')\n",
    "ax = df.plot(secondary_y='NASDAQCOM')"
   ]
  },
  {
   "cell_type": "code",
   "execution_count": null,
   "metadata": {},
   "outputs": [],
   "source": [
    "df.tail()\n"
   ]
  },
  {
   "cell_type": "markdown",
   "metadata": {},
   "source": [
    "3. 주택 판매 지수 (HSN1F)\n"
   ]
  },
  {
   "cell_type": "code",
   "execution_count": null,
   "metadata": {},
   "outputs": [],
   "source": [
    "# 2008년 금융위기 나스닥지수(NASDAQCOM)와 주택 판매 지수\n",
    "\n",
    "df = fdr.DataReader(['NASDAQCOM', 'HSN1F'], start='2005', end='2011', data_source='fred')\n",
    "ax = df.plot(secondary_y='NASDAQCOM')\n",
    "ax = ax.axvspan('2007-12-01', '2009-03-30', color='gray', alpha=0.2)"
   ]
  },
  {
   "cell_type": "code",
   "execution_count": null,
   "metadata": {},
   "outputs": [],
   "source": [
    "# 최근(2020년 10월), 나스닥지수(NASDAQCOM)와 주택판매지수(HSN1F) \n",
    "\n",
    "df = fdr.DataReader(['NASDAQCOM', 'HSN1F'], start='2019', data_source='fred')\n",
    "ax = df.plot(secondary_y='NASDAQCOM')"
   ]
  },
  {
   "cell_type": "markdown",
   "metadata": {},
   "source": [
    "4. 실업률 (UNRATE)\n"
   ]
  },
  {
   "cell_type": "code",
   "execution_count": null,
   "metadata": {},
   "outputs": [],
   "source": [
    "# 2008년 금융위기 나스닥지수(NASDAQCOM)와 실업률(UNRATE) \n",
    "\n",
    "df = fdr.DataReader(['NASDAQCOM', 'UNRATE'], start='2005', end='2011', data_source='fred')\n",
    "ax = df.plot(secondary_y='NASDAQCOM')\n",
    "ax = ax.axvspan('2007-12-01', '2009-03-30', color='gray', alpha=0.2)"
   ]
  },
  {
   "cell_type": "code",
   "execution_count": null,
   "metadata": {},
   "outputs": [],
   "source": [
    "# 최근(2020년 10월), 나스닥지수(NASDAQCOM)와 실업률(UNRATE) \n",
    "\n",
    "df = fdr.DataReader(['NASDAQCOM', 'UNRATE'], start='2019', data_source='fred')\n",
    "ax = df.plot(secondary_y='NASDAQCOM')"
   ]
  },
  {
   "cell_type": "markdown",
   "metadata": {},
   "source": [
    "5. M2 통화량(M2SL)¶\n"
   ]
  },
  {
   "cell_type": "code",
   "execution_count": null,
   "metadata": {},
   "outputs": [],
   "source": [
    "# 2008년 금융위기, 나스닥지수(NASDAQCOM)와 M2통화량(M2SL) \n",
    "\n",
    "df = fdr.DataReader(['NASDAQCOM', 'M2SL'], start='2005', end='2011', data_source='fred')\n",
    "ax = df.plot(secondary_y='NASDAQCOM')\n",
    "ax = ax.axvspan('2007-12-01', '2009-03-30', color='gray', alpha=0.2)"
   ]
  },
  {
   "cell_type": "code",
   "execution_count": null,
   "metadata": {},
   "outputs": [],
   "source": [
    "# 최근(2020년 10월), 나스닥지수(NASDAQCOM)와 M2통화량(M2SL)\n",
    "\n",
    "df = fdr.DataReader(['NASDAQCOM', 'M2SL'], start='2019', data_source='fred')\n",
    "ax = df.plot(secondary_y='NASDAQCOM')\n"
   ]
  },
  {
   "cell_type": "markdown",
   "metadata": {},
   "source": [
    "6. 하이일드 채권 스프레드 (BAMLH0A0HYM2)\n"
   ]
  },
  {
   "cell_type": "code",
   "execution_count": null,
   "metadata": {},
   "outputs": [],
   "source": [
    "# 2008년 금융위기, 나스닥지수(NASDAQCOM)와 하이일드 채권 스프레드 \n",
    "\n",
    "df = fdr.DataReader(['NASDAQCOM', 'BAMLH0A0HYM2'], start='2005', end='2011', data_source='fred')\n",
    "ax = df.plot(secondary_y='NASDAQCOM')\n",
    "ax = ax.axvspan('2007-12-01', '2009-03-30', color='gray', alpha=0.2)"
   ]
  },
  {
   "cell_type": "code",
   "execution_count": null,
   "metadata": {},
   "outputs": [],
   "source": [
    "# 최근(2020년 10월), 나스닥지수(NASDAQCOM)와 하이일드 채권 스프레드 \n",
    "\n",
    "df = fdr.DataReader(['NASDAQCOM', 'BAMLH0A0HYM2'], start='2019', data_source='fred')\n",
    "ax = df.plot(secondary_y='NASDAQCOM')"
   ]
  }
 ],
 "metadata": {
  "kernelspec": {
   "display_name": "Python 3.9.0 64-bit",
   "language": "python",
   "name": "python3"
  },
  "language_info": {
   "name": "python",
   "version": "3.9.0"
  },
  "orig_nbformat": 4,
  "vscode": {
   "interpreter": {
    "hash": "45339bc56a643d5cca89a03a2114dea40057e221f4abbf9db77d494b61aa87df"
   }
  }
 },
 "nbformat": 4,
 "nbformat_minor": 2
}
